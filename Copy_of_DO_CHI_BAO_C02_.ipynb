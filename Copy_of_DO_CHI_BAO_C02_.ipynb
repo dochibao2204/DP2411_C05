{
  "nbformat": 4,
  "nbformat_minor": 0,
  "metadata": {
    "colab": {
      "provenance": [],
      "collapsed_sections": [
        "vrktxgNqtiht",
        "22WPJoPUsuQg"
      ],
      "toc_visible": true,
      "authorship_tag": "ABX9TyNgcIOTH/d1sCOjcumkpvUJ",
      "include_colab_link": true
    },
    "kernelspec": {
      "name": "python3",
      "display_name": "Python 3"
    },
    "language_info": {
      "name": "python"
    }
  },
  "cells": [
    {
      "cell_type": "markdown",
      "metadata": {
        "id": "view-in-github",
        "colab_type": "text"
      },
      "source": [
        "<a href=\"https://colab.research.google.com/github/dochibao2204/DP2411_C05/blob/main/Copy_of_DO_CHI_BAO_C02_.ipynb\" target=\"_parent\"><img src=\"https://colab.research.google.com/assets/colab-badge.svg\" alt=\"Open In Colab\"/></a>"
      ]
    },
    {
      "cell_type": "code",
      "source": [],
      "metadata": {
        "id": "Ccdd9epit-h1"
      },
      "execution_count": null,
      "outputs": []
    },
    {
      "cell_type": "markdown",
      "source": [
        "import"
      ],
      "metadata": {
        "id": "8U99uOZYq83E"
      }
    },
    {
      "cell_type": "code",
      "execution_count": null,
      "metadata": {
        "id": "IT0zjXk4qbta"
      },
      "outputs": [],
      "source": [
        "# utf-8 encoded\n",
        "import pandas as pd\n",
        "import numpy as np\n",
        "\n",
        "data = pd.read_csv('nycflights.csv', index_col=0)\n",
        "data.head(9)\n",
        "\n",
        "df = pd.DataFrame(data)"
      ]
    },
    {
      "cell_type": "markdown",
      "source": [
        "# New Section"
      ],
      "metadata": {
        "id": "jKF8eE41tkOE"
      }
    },
    {
      "cell_type": "markdown",
      "source": [
        "Bài 1"
      ],
      "metadata": {
        "id": "r7IR3FOms2R8"
      }
    },
    {
      "cell_type": "code",
      "source": [
        "# utf-8 encoded\n",
        "from data_set import *\n",
        "# - Đếm số chuyến bay trễ của các sân bay (cột origin)\n",
        "delayed_F_C_Origin = data[data['arr_delay'] > 0]['origin'].value_counts()\n",
        "\n",
        "delayed_F_C_Origin\n",
        "# print (delayed_F_C_Origin)\n",
        "# - Đếm số chuyến bay không trễ của các sân bay\n",
        "# good_F_C_Origin = data[data['arr_delay'] < 1]['origin'].value_counts() # kết quả ra khác\n",
        "good_F_C_Origin = data[(data['arr_delay'] < 0) | (['arr_delay'] == 0)]['origin'].value_counts()\n",
        "\n",
        "good_F_C_Origin\n",
        "# print (good_F_C_Origin)\n",
        "# - Tạo bảng hiển thị số chuyến bay trễ vs chuyên bay không trễ\n",
        "data_delay_schedule_origin = [delayed_F_C_Origin,good_F_C_Origin]\n",
        "# print (data)\n",
        "df_delay_schedule_origin = pd.DataFrame(data_delay_schedule_origin) #columns=['Origin', 'Delay Flight', 'Good Flights'])\n",
        "df_delay_schedule_origin.index = ['delayed_origin', 'good_origin']\n",
        "# print (data)\n",
        "print (df_delay_schedule_origin)"
      ],
      "metadata": {
        "id": "DihcExSBsIm_"
      },
      "execution_count": null,
      "outputs": []
    },
    {
      "cell_type": "markdown",
      "source": [
        "# New Section"
      ],
      "metadata": {
        "id": "vrktxgNqtiht"
      }
    },
    {
      "cell_type": "markdown",
      "source": [
        "bài 2"
      ],
      "metadata": {
        "id": "L79R11PzswLl"
      }
    },
    {
      "cell_type": "code",
      "source": [
        "# utf-8 encoded\n",
        "# - Thực hiện tương tự với các hãng hàng không (cột carrier)\n",
        "from data_set import *\n",
        "# - Đếm số chuyến bay trễ của các sân bay (cột carrier)\n",
        "delayed_F_C_carrier = data[data['arr_delay'] > 0]['carrier'].value_counts()\n",
        "\n",
        "delayed_F_C_carrier\n",
        "# print (delayed_F_C_carrier)\n",
        "# - Đếm số chuyến bay không trễ của các sân bay\n",
        "# good_F_C_carrier = data[data['arr_delay'] < 1]['carrier'].value_counts() # kết quả ra khác\n",
        "good_F_C_carrier = data[(data['arr_delay'] < 0) | (['arr_delay'] == 0)]['carrier'].value_counts()\n",
        "\n",
        "good_F_C_carrier\n",
        "# print (good_F_C_carrier)\n",
        "# -Tạo bảng hiển thị số chuyến bay trễ vs chuyên bay không trễ\n",
        "data_delay_schedule_carrier = [delayed_F_C_carrier,good_F_C_carrier]\n",
        "# print (data)\n",
        "df_delay_schedule_carrier = pd.DataFrame(data_delay_schedule_carrier) #columns=['Carrier', 'Delay Flight', 'Good Flights'])\n",
        "df_delay_schedule_carrier.index = ['delayed_carrier', 'good_carrier']\n",
        "print (df_delay_schedule_carrier)"
      ],
      "metadata": {
        "id": "rx-bXKghtNaU"
      },
      "execution_count": null,
      "outputs": []
    },
    {
      "cell_type": "markdown",
      "source": [
        "# New Section"
      ],
      "metadata": {
        "id": "22WPJoPUsuQg"
      }
    },
    {
      "cell_type": "markdown",
      "source": [
        "bài 3"
      ],
      "metadata": {
        "id": "G6519idasx_0"
      }
    },
    {
      "cell_type": "code",
      "source": [
        "# utf-8 encoded\n",
        "from data_set import *\n",
        "# - Tính thời gian trễ (gồm dep_delay và arr_delay) trung bình của các hãng\n",
        "# lấy các số >0 từ 2 cột\n",
        "# theo cột key là Name\n",
        "# thiêu group by sẽ gây ảnh hưởng kết quả gây lag\n",
        "# tính arr_delay_average_name\n",
        "# delayed_arr_average_name = data[data['arr_delay'] > 0]['name'].mean()\n",
        "\n",
        "# create LOGICAL\n",
        "data_arr_delay = data['arr_delay'] > 0\n",
        "data_dep_delay = data['dep_delay'] > 0\n",
        "\n",
        "delayed_arr_average_name = data[data_arr_delay].groupby('name')['arr_delay'].mean()\n",
        "\n",
        "delayed_arr_average_name\n",
        "# print(delayed_arr_average_name)\n",
        "\n",
        "# tính dep_delay_average_name\n",
        "# delayed_dep_average_name = data[data_dep_delay]['name'].mean()\n",
        "delayed_dep_average_name = data[data_dep_delay].groupby('name')['dep_delay'].mean()\n",
        "\n",
        "delayed_dep_average_name\n",
        "# print(delayed_dep_average_name)\n",
        "\n",
        "delayed_all_average_name = [delayed_arr_average_name, delayed_dep_average_name]\n",
        "# print (data)\n",
        "df_delay_all_average_name = pd.DataFrame(delayed_all_average_name)\n",
        "print (df_delay_all_average_name)\n",
        "\n",
        "# - Tính thời gian trễ (gồm dep_delay và arr_delay) trung bình từ các sân bay\n",
        "# tính arr_delay_average_name origin and dest\n",
        "delayed_arr_average_airport = data[data_arr_delay].groupby(['origin','dest'])['arr_delay'].mean()\n",
        "\n",
        "delayed_arr_average_airport\n",
        "# tính dep_delay_average_airport origin and dest\n",
        "delayed_dep_average_airport = data[data_dep_delay].groupby(['origin','dest'])['dep_delay'].mean()\n",
        "\n",
        "delayed_dep_average_airport\n",
        "\n",
        "delayed_all_average_airport = [delayed_arr_average_airport, delayed_dep_average_airport]\n",
        "# print (data)\n",
        "df_delay_all_average_airport = pd.DataFrame(delayed_all_average_airport)\n",
        "print (df_delay_all_average_airport)"
      ],
      "metadata": {
        "id": "6PsUDyDatqEM"
      },
      "execution_count": null,
      "outputs": []
    },
    {
      "cell_type": "markdown",
      "source": [
        "# New Section"
      ],
      "metadata": {
        "id": "i55vKelytvNt"
      }
    },
    {
      "cell_type": "markdown",
      "source": [
        "Bài 4"
      ],
      "metadata": {
        "id": "p5rMuff-twJc"
      }
    },
    {
      "cell_type": "code",
      "source": [
        "# utf-8 encoded\n",
        "from data_set import *\n",
        "# - Tính tổng, trung bình, mean, median của quãng đường bay của từng hãng\n",
        "# (cột distance)\n",
        "# tính tổng\n",
        "sum_distance = data.groupby(['origin','dest'])['distance'].sum()\n",
        "\n",
        "sum_distance\n",
        "# print(sum_distance)\n",
        "\n",
        "# tính trung bình\n",
        "# delayed_dep_average_name = data[data_dep_delay]['name'].mean()\n",
        "average_distance = data.groupby(['origin','dest'])['distance'].mean()\n",
        "\n",
        "average_distance\n",
        "# print(average_distance)\n",
        "\n",
        "# tính trung vị median\n",
        "median_distance = data.groupby(['origin','dest'])['distance'].median()\n",
        "\n",
        "median_distance\n",
        "\n",
        "calculator_distance_schedule = [sum_distance, average_distance, median_distance]\n",
        "# print (data)\n",
        "df_distance = pd.DataFrame(calculator_distance_schedule)\n",
        "df_distance.index = ['sum_distance', 'average_distance', 'median_distance']\n",
        "print (df_distance)"
      ],
      "metadata": {
        "id": "5-YA6engtyDc"
      },
      "execution_count": null,
      "outputs": []
    }
  ]
}